{
 "cells": [
  {
   "cell_type": "markdown",
   "metadata": {},
   "source": [
    "# Analysis of Chicago Property Value and Green Space (NDVI) in Chicago\n"
   ]
  },
  {
   "cell_type": "markdown",
   "metadata": {},
   "source": [
    "- Used data mining and machine learning techniques to examine the relationship between property value and green space in Chicago. \n",
    "- Found that the two were negatively correlated, but this is due to the highly dense Chicago downtown area\n",
    "- In a future iteration of this project, the downtown outlier would be accounted for"
   ]
  },
  {
   "cell_type": "code",
   "execution_count": null,
   "metadata": {},
   "outputs": [],
   "source": []
  },
  {
   "cell_type": "markdown",
   "metadata": {},
   "source": [
    "## Setting Up the Datasets"
   ]
  },
  {
   "cell_type": "code",
   "execution_count": 1,
   "metadata": {},
   "outputs": [],
   "source": [
    "import pandas as pd\n",
    "import numpy as np\n",
    "import seaborn as sns\n",
    "%matplotlib inline\n",
    "import matplotlib.pyplot as plt\n",
    "#plt.style.use('fivethirtyeight')\n",
    "\n",
    "from scipy.optimize import minimize"
   ]
  },
  {
   "cell_type": "code",
   "execution_count": 2,
   "metadata": {},
   "outputs": [],
   "source": [
    "pops = pd.read_csv(\"Chicago_Population_Counts.csv\")\n",
    "pops = pops.drop(labels=[0,60], axis=0)\n",
    "#pops.loc[pops.Geography=='Chicago']"
   ]
  },
  {
   "cell_type": "code",
   "execution_count": 3,
   "metadata": {},
   "outputs": [
    {
     "data": {
      "text/plain": [
       "118"
      ]
     },
     "execution_count": 3,
     "metadata": {},
     "output_type": "execute_result"
    }
   ],
   "source": [
    "pops.Geography = pd.to_numeric(pops.Geography)\n",
    "pop1 = pops[['Geography', 'Population - Total']]\n",
    "len(pop1)"
   ]
  },
  {
   "cell_type": "code",
   "execution_count": 4,
   "metadata": {},
   "outputs": [],
   "source": [
    "cook = pd.read_csv(\"combined_price_zip.csv\")\n",
    "cook.columns = cook.columns.str.replace(' ', '_')\n",
    "cook.rename({\"mean\": \"mean_ndvi\"}, axis='columns', inplace=True)"
   ]
  },
  {
   "cell_type": "code",
   "execution_count": 5,
   "metadata": {},
   "outputs": [
    {
     "data": {
      "text/plain": [
       "Index(['index', 'Unnamed:_0', 'Property_Zip_Code', 'Sale_Price', 'mean_ndvi',\n",
       "       'AWATER10', 'ALAND10', 'FUNCSTAT10', 'INTPTLON10', 'CLASSFP10',\n",
       "       'ZCTA5CE10', 'MTFCC10', 'INTPTLAT10', 'system:index', 'GEOID10',\n",
       "       'Geography', 'Population - Total'],\n",
       "      dtype='object')"
      ]
     },
     "execution_count": 5,
     "metadata": {},
     "output_type": "execute_result"
    }
   ],
   "source": [
    "df = cook.merge(pop1, left_on='Property_Zip_Code', right_on='Geography').drop_duplicates(subset=['Property_Zip_Code'])\n",
    "df = df.reset_index()\n",
    "df.columns"
   ]
  },
  {
   "cell_type": "code",
   "execution_count": 6,
   "metadata": {},
   "outputs": [
    {
     "data": {
      "text/plain": [
       "54"
      ]
     },
     "execution_count": 6,
     "metadata": {},
     "output_type": "execute_result"
    }
   ],
   "source": [
    "df = df.rename(columns={\"Population - Total\": \"pop_total\"})\n",
    "len(df)"
   ]
  },
  {
   "cell_type": "code",
   "execution_count": 7,
   "metadata": {},
   "outputs": [
    {
     "data": {
      "text/plain": [
       "Index(['index', 'Unnamed:_0', 'Property_Zip_Code', 'Sale_Price', 'mean_ndvi',\n",
       "       'AWATER10', 'ALAND10', 'FUNCSTAT10', 'INTPTLON10', 'CLASSFP10',\n",
       "       'ZCTA5CE10', 'MTFCC10', 'INTPTLAT10', 'system:index', 'GEOID10',\n",
       "       'Geography', 'pop_total'],\n",
       "      dtype='object')"
      ]
     },
     "execution_count": 7,
     "metadata": {},
     "output_type": "execute_result"
    }
   ],
   "source": [
    "df.columns"
   ]
  },
  {
   "cell_type": "code",
   "execution_count": null,
   "metadata": {},
   "outputs": [],
   "source": []
  },
  {
   "cell_type": "markdown",
   "metadata": {},
   "source": [
    "## Standardizing Property Values and Mean NDVI Values"
   ]
  },
  {
   "cell_type": "markdown",
   "metadata": {},
   "source": [
    "- The NDVI values are normally distributed, but the property values are skewed \n",
    "- Apply a Box Cox transformation (log) on these values to normalize them."
   ]
  },
  {
   "cell_type": "code",
   "execution_count": 8,
   "metadata": {},
   "outputs": [],
   "source": [
    "def standard_units(x):\n",
    "    \"Convert any array of numbers to standard units.\"\n",
    "    return (x - np.average(x))/np.std(x,ddof=1)  \n",
    "\n",
    "def correlation(x, y):\n",
    "    x_in_standard_units = standard_units(x)\n",
    "    y_in_standard_units = standard_units(y)\n",
    "    if len(x)!=len(y):\n",
    "        raise ValueError('arrays are of different lengths')\n",
    "    return sum(x_in_standard_units * y_in_standard_units)/(len(x)-1)"
   ]
  },
  {
   "cell_type": "code",
   "execution_count": 9,
   "metadata": {},
   "outputs": [
    {
     "data": {
      "text/html": [
       "<div>\n",
       "<style scoped>\n",
       "    .dataframe tbody tr th:only-of-type {\n",
       "        vertical-align: middle;\n",
       "    }\n",
       "\n",
       "    .dataframe tbody tr th {\n",
       "        vertical-align: top;\n",
       "    }\n",
       "\n",
       "    .dataframe thead th {\n",
       "        text-align: right;\n",
       "    }\n",
       "</style>\n",
       "<table border=\"1\" class=\"dataframe\">\n",
       "  <thead>\n",
       "    <tr style=\"text-align: right;\">\n",
       "      <th></th>\n",
       "      <th>Unnamed:_0</th>\n",
       "      <th>Property_Zip_Code</th>\n",
       "      <th>Sale_Price</th>\n",
       "      <th>mean_ndvi</th>\n",
       "      <th>AWATER10</th>\n",
       "      <th>ALAND10</th>\n",
       "      <th>FUNCSTAT10</th>\n",
       "      <th>INTPTLON10</th>\n",
       "      <th>CLASSFP10</th>\n",
       "      <th>ZCTA5CE10</th>\n",
       "      <th>MTFCC10</th>\n",
       "      <th>INTPTLAT10</th>\n",
       "      <th>system:index</th>\n",
       "      <th>GEOID10</th>\n",
       "    </tr>\n",
       "  </thead>\n",
       "  <tbody>\n",
       "    <tr>\n",
       "      <th>0</th>\n",
       "      <td>0</td>\n",
       "      <td>60605</td>\n",
       "      <td>7.538358e+05</td>\n",
       "      <td>0.126884</td>\n",
       "      <td>2031071</td>\n",
       "      <td>3225725</td>\n",
       "      <td>S</td>\n",
       "      <td>-87.617228</td>\n",
       "      <td>B5</td>\n",
       "      <td>60605</td>\n",
       "      <td>G6350</td>\n",
       "      <td>41.867566</td>\n",
       "      <td>00040000000000001876</td>\n",
       "      <td>60605</td>\n",
       "    </tr>\n",
       "    <tr>\n",
       "      <th>1</th>\n",
       "      <td>1</td>\n",
       "      <td>60606</td>\n",
       "      <td>2.250000e+06</td>\n",
       "      <td>0.074290</td>\n",
       "      <td>0</td>\n",
       "      <td>661666</td>\n",
       "      <td>S</td>\n",
       "      <td>-87.637349</td>\n",
       "      <td>B5</td>\n",
       "      <td>60606</td>\n",
       "      <td>G6350</td>\n",
       "      <td>41.882066</td>\n",
       "      <td>000400000000000005f8</td>\n",
       "      <td>60606</td>\n",
       "    </tr>\n",
       "  </tbody>\n",
       "</table>\n",
       "</div>"
      ],
      "text/plain": [
       "   Unnamed:_0  Property_Zip_Code    Sale_Price  mean_ndvi  AWATER10  ALAND10  \\\n",
       "0           0              60605  7.538358e+05   0.126884   2031071  3225725   \n",
       "1           1              60606  2.250000e+06   0.074290         0   661666   \n",
       "\n",
       "  FUNCSTAT10  INTPTLON10 CLASSFP10  ZCTA5CE10 MTFCC10  INTPTLAT10  \\\n",
       "0          S  -87.617228        B5      60605   G6350   41.867566   \n",
       "1          S  -87.637349        B5      60606   G6350   41.882066   \n",
       "\n",
       "           system:index  GEOID10  \n",
       "0  00040000000000001876    60605  \n",
       "1  000400000000000005f8    60606  "
      ]
     },
     "execution_count": 9,
     "metadata": {},
     "output_type": "execute_result"
    }
   ],
   "source": [
    "cook.head(2)"
   ]
  },
  {
   "cell_type": "code",
   "execution_count": 10,
   "metadata": {},
   "outputs": [],
   "source": [
    "#cook[\"sqrt_ndvi\"] = cook.mean_ndvi ** 0.5\n",
    "#cook[\"sqrt_sale\"] = cook.Sale_Price ** 0.5\n",
    "cook[\"log_sale\"] = np.log(cook.Sale_Price)"
   ]
  },
  {
   "cell_type": "code",
   "execution_count": 11,
   "metadata": {
    "scrolled": true
   },
   "outputs": [
    {
     "data": {
      "text/html": [
       "<div>\n",
       "<style scoped>\n",
       "    .dataframe tbody tr th:only-of-type {\n",
       "        vertical-align: middle;\n",
       "    }\n",
       "\n",
       "    .dataframe tbody tr th {\n",
       "        vertical-align: top;\n",
       "    }\n",
       "\n",
       "    .dataframe thead th {\n",
       "        text-align: right;\n",
       "    }\n",
       "</style>\n",
       "<table border=\"1\" class=\"dataframe\">\n",
       "  <thead>\n",
       "    <tr style=\"text-align: right;\">\n",
       "      <th></th>\n",
       "      <th>Unnamed:_0</th>\n",
       "      <th>Property_Zip_Code</th>\n",
       "      <th>Sale_Price</th>\n",
       "      <th>mean_ndvi</th>\n",
       "      <th>AWATER10</th>\n",
       "      <th>ALAND10</th>\n",
       "      <th>FUNCSTAT10</th>\n",
       "      <th>INTPTLON10</th>\n",
       "      <th>CLASSFP10</th>\n",
       "      <th>ZCTA5CE10</th>\n",
       "      <th>MTFCC10</th>\n",
       "      <th>INTPTLAT10</th>\n",
       "      <th>system:index</th>\n",
       "      <th>GEOID10</th>\n",
       "      <th>log_sale</th>\n",
       "    </tr>\n",
       "  </thead>\n",
       "  <tbody>\n",
       "    <tr>\n",
       "      <th>0</th>\n",
       "      <td>0</td>\n",
       "      <td>60605</td>\n",
       "      <td>7.538358e+05</td>\n",
       "      <td>0.126884</td>\n",
       "      <td>2031071</td>\n",
       "      <td>3225725</td>\n",
       "      <td>S</td>\n",
       "      <td>-87.617228</td>\n",
       "      <td>B5</td>\n",
       "      <td>60605</td>\n",
       "      <td>G6350</td>\n",
       "      <td>41.867566</td>\n",
       "      <td>00040000000000001876</td>\n",
       "      <td>60605</td>\n",
       "      <td>13.532930</td>\n",
       "    </tr>\n",
       "    <tr>\n",
       "      <th>1</th>\n",
       "      <td>1</td>\n",
       "      <td>60606</td>\n",
       "      <td>2.250000e+06</td>\n",
       "      <td>0.074290</td>\n",
       "      <td>0</td>\n",
       "      <td>661666</td>\n",
       "      <td>S</td>\n",
       "      <td>-87.637349</td>\n",
       "      <td>B5</td>\n",
       "      <td>60606</td>\n",
       "      <td>G6350</td>\n",
       "      <td>41.882066</td>\n",
       "      <td>000400000000000005f8</td>\n",
       "      <td>60606</td>\n",
       "      <td>14.626441</td>\n",
       "    </tr>\n",
       "  </tbody>\n",
       "</table>\n",
       "</div>"
      ],
      "text/plain": [
       "   Unnamed:_0  Property_Zip_Code    Sale_Price  mean_ndvi  AWATER10  ALAND10  \\\n",
       "0           0              60605  7.538358e+05   0.126884   2031071  3225725   \n",
       "1           1              60606  2.250000e+06   0.074290         0   661666   \n",
       "\n",
       "  FUNCSTAT10  INTPTLON10 CLASSFP10  ZCTA5CE10 MTFCC10  INTPTLAT10  \\\n",
       "0          S  -87.617228        B5      60605   G6350   41.867566   \n",
       "1          S  -87.637349        B5      60606   G6350   41.882066   \n",
       "\n",
       "           system:index  GEOID10   log_sale  \n",
       "0  00040000000000001876    60605  13.532930  \n",
       "1  000400000000000005f8    60606  14.626441  "
      ]
     },
     "execution_count": 11,
     "metadata": {},
     "output_type": "execute_result"
    }
   ],
   "source": [
    "cook.head(2)"
   ]
  },
  {
   "cell_type": "code",
   "execution_count": null,
   "metadata": {},
   "outputs": [],
   "source": []
  },
  {
   "cell_type": "code",
   "execution_count": 12,
   "metadata": {},
   "outputs": [],
   "source": [
    "std_sale = standard_units(cook.log_sale)\n",
    "#std_sale = standard_units(cook.sqrt_sale)\n",
    "std_ndvi = standard_units(cook.mean_ndvi)"
   ]
  },
  {
   "cell_type": "code",
   "execution_count": 13,
   "metadata": {},
   "outputs": [],
   "source": [
    "cook[\"std_sale_price\"] = std_sale\n",
    "cook[\"std_ndvi\"] = std_ndvi"
   ]
  },
  {
   "cell_type": "code",
   "execution_count": 14,
   "metadata": {},
   "outputs": [],
   "source": [
    "geom_mult = (cook.std_sale_price * cook.std_ndvi)"
   ]
  },
  {
   "cell_type": "code",
   "execution_count": 15,
   "metadata": {},
   "outputs": [],
   "source": [
    "cook[\"geom_mult\"] = geom_mult"
   ]
  },
  {
   "cell_type": "code",
   "execution_count": 16,
   "metadata": {},
   "outputs": [],
   "source": [
    "cook[\"geom_mean\"] = np.sqrt(np.abs(geom_mult))"
   ]
  },
  {
   "cell_type": "markdown",
   "metadata": {},
   "source": [
    "## Combine All Calculated Values Into One Table"
   ]
  },
  {
   "cell_type": "markdown",
   "metadata": {},
   "source": [
    "- Calculated a geometric mean to average property value and green space in Chicago\n",
    "- Simplified, the geometric mean = sqrt(sale * green space)\n",
    "- The column \"geom_mean\" contains these values\n"
   ]
  },
  {
   "cell_type": "code",
   "execution_count": 17,
   "metadata": {},
   "outputs": [
    {
     "data": {
      "text/html": [
       "<div>\n",
       "<style scoped>\n",
       "    .dataframe tbody tr th:only-of-type {\n",
       "        vertical-align: middle;\n",
       "    }\n",
       "\n",
       "    .dataframe tbody tr th {\n",
       "        vertical-align: top;\n",
       "    }\n",
       "\n",
       "    .dataframe thead th {\n",
       "        text-align: right;\n",
       "    }\n",
       "</style>\n",
       "<table border=\"1\" class=\"dataframe\">\n",
       "  <thead>\n",
       "    <tr style=\"text-align: right;\">\n",
       "      <th></th>\n",
       "      <th>Unnamed:_0</th>\n",
       "      <th>Property_Zip_Code</th>\n",
       "      <th>Sale_Price</th>\n",
       "      <th>mean_ndvi</th>\n",
       "      <th>AWATER10</th>\n",
       "      <th>ALAND10</th>\n",
       "      <th>FUNCSTAT10</th>\n",
       "      <th>INTPTLON10</th>\n",
       "      <th>CLASSFP10</th>\n",
       "      <th>ZCTA5CE10</th>\n",
       "      <th>MTFCC10</th>\n",
       "      <th>INTPTLAT10</th>\n",
       "      <th>system:index</th>\n",
       "      <th>GEOID10</th>\n",
       "      <th>log_sale</th>\n",
       "      <th>std_sale_price</th>\n",
       "      <th>std_ndvi</th>\n",
       "      <th>geom_mult</th>\n",
       "      <th>geom_mean</th>\n",
       "    </tr>\n",
       "  </thead>\n",
       "  <tbody>\n",
       "    <tr>\n",
       "      <th>0</th>\n",
       "      <td>0</td>\n",
       "      <td>60605</td>\n",
       "      <td>7.538358e+05</td>\n",
       "      <td>0.126884</td>\n",
       "      <td>2031071</td>\n",
       "      <td>3225725</td>\n",
       "      <td>S</td>\n",
       "      <td>-87.617228</td>\n",
       "      <td>B5</td>\n",
       "      <td>60605</td>\n",
       "      <td>G6350</td>\n",
       "      <td>41.867566</td>\n",
       "      <td>00040000000000001876</td>\n",
       "      <td>60605</td>\n",
       "      <td>13.532930</td>\n",
       "      <td>0.860981</td>\n",
       "      <td>-1.192796</td>\n",
       "      <td>-1.026975</td>\n",
       "      <td>1.013398</td>\n",
       "    </tr>\n",
       "    <tr>\n",
       "      <th>1</th>\n",
       "      <td>1</td>\n",
       "      <td>60606</td>\n",
       "      <td>2.250000e+06</td>\n",
       "      <td>0.074290</td>\n",
       "      <td>0</td>\n",
       "      <td>661666</td>\n",
       "      <td>S</td>\n",
       "      <td>-87.637349</td>\n",
       "      <td>B5</td>\n",
       "      <td>60606</td>\n",
       "      <td>G6350</td>\n",
       "      <td>41.882066</td>\n",
       "      <td>000400000000000005f8</td>\n",
       "      <td>60606</td>\n",
       "      <td>14.626441</td>\n",
       "      <td>2.150924</td>\n",
       "      <td>-1.710807</td>\n",
       "      <td>-3.679816</td>\n",
       "      <td>1.918285</td>\n",
       "    </tr>\n",
       "    <tr>\n",
       "      <th>2</th>\n",
       "      <td>2</td>\n",
       "      <td>60607</td>\n",
       "      <td>8.452913e+05</td>\n",
       "      <td>0.132765</td>\n",
       "      <td>0</td>\n",
       "      <td>6009736</td>\n",
       "      <td>S</td>\n",
       "      <td>-87.651596</td>\n",
       "      <td>B5</td>\n",
       "      <td>60607</td>\n",
       "      <td>G6350</td>\n",
       "      <td>41.874932</td>\n",
       "      <td>000400000000000005f9</td>\n",
       "      <td>60607</td>\n",
       "      <td>13.647437</td>\n",
       "      <td>0.996057</td>\n",
       "      <td>-1.134869</td>\n",
       "      <td>-1.130395</td>\n",
       "      <td>1.063200</td>\n",
       "    </tr>\n",
       "    <tr>\n",
       "      <th>3</th>\n",
       "      <td>3</td>\n",
       "      <td>60608</td>\n",
       "      <td>3.946474e+05</td>\n",
       "      <td>0.165517</td>\n",
       "      <td>456919</td>\n",
       "      <td>16452029</td>\n",
       "      <td>S</td>\n",
       "      <td>-87.672388</td>\n",
       "      <td>B5</td>\n",
       "      <td>60608</td>\n",
       "      <td>G6350</td>\n",
       "      <td>41.846223</td>\n",
       "      <td>00040000000000001877</td>\n",
       "      <td>60608</td>\n",
       "      <td>12.885748</td>\n",
       "      <td>0.097543</td>\n",
       "      <td>-0.812284</td>\n",
       "      <td>-0.079233</td>\n",
       "      <td>0.281484</td>\n",
       "    </tr>\n",
       "    <tr>\n",
       "      <th>4</th>\n",
       "      <td>4</td>\n",
       "      <td>60609</td>\n",
       "      <td>2.131057e+05</td>\n",
       "      <td>0.221666</td>\n",
       "      <td>49424</td>\n",
       "      <td>20092663</td>\n",
       "      <td>S</td>\n",
       "      <td>-87.656935</td>\n",
       "      <td>B5</td>\n",
       "      <td>60609</td>\n",
       "      <td>G6350</td>\n",
       "      <td>41.812680</td>\n",
       "      <td>00040000000000001878</td>\n",
       "      <td>60609</td>\n",
       "      <td>12.269544</td>\n",
       "      <td>-0.629352</td>\n",
       "      <td>-0.259259</td>\n",
       "      <td>0.163165</td>\n",
       "      <td>0.403937</td>\n",
       "    </tr>\n",
       "  </tbody>\n",
       "</table>\n",
       "</div>"
      ],
      "text/plain": [
       "   Unnamed:_0  Property_Zip_Code    Sale_Price  mean_ndvi  AWATER10   ALAND10  \\\n",
       "0           0              60605  7.538358e+05   0.126884   2031071   3225725   \n",
       "1           1              60606  2.250000e+06   0.074290         0    661666   \n",
       "2           2              60607  8.452913e+05   0.132765         0   6009736   \n",
       "3           3              60608  3.946474e+05   0.165517    456919  16452029   \n",
       "4           4              60609  2.131057e+05   0.221666     49424  20092663   \n",
       "\n",
       "  FUNCSTAT10  INTPTLON10 CLASSFP10  ZCTA5CE10 MTFCC10  INTPTLAT10  \\\n",
       "0          S  -87.617228        B5      60605   G6350   41.867566   \n",
       "1          S  -87.637349        B5      60606   G6350   41.882066   \n",
       "2          S  -87.651596        B5      60607   G6350   41.874932   \n",
       "3          S  -87.672388        B5      60608   G6350   41.846223   \n",
       "4          S  -87.656935        B5      60609   G6350   41.812680   \n",
       "\n",
       "           system:index  GEOID10   log_sale  std_sale_price  std_ndvi  \\\n",
       "0  00040000000000001876    60605  13.532930        0.860981 -1.192796   \n",
       "1  000400000000000005f8    60606  14.626441        2.150924 -1.710807   \n",
       "2  000400000000000005f9    60607  13.647437        0.996057 -1.134869   \n",
       "3  00040000000000001877    60608  12.885748        0.097543 -0.812284   \n",
       "4  00040000000000001878    60609  12.269544       -0.629352 -0.259259   \n",
       "\n",
       "   geom_mult  geom_mean  \n",
       "0  -1.026975   1.013398  \n",
       "1  -3.679816   1.918285  \n",
       "2  -1.130395   1.063200  \n",
       "3  -0.079233   0.281484  \n",
       "4   0.163165   0.403937  "
      ]
     },
     "execution_count": 17,
     "metadata": {},
     "output_type": "execute_result"
    }
   ],
   "source": [
    "cook.head(5)"
   ]
  },
  {
   "cell_type": "code",
   "execution_count": 18,
   "metadata": {},
   "outputs": [],
   "source": [
    "#cook.to_csv('out.csv', index=False)"
   ]
  },
  {
   "cell_type": "code",
   "execution_count": 19,
   "metadata": {},
   "outputs": [
    {
     "data": {
      "text/plain": [
       "(2.1055825647471704, 0.06229101711506454)"
      ]
     },
     "execution_count": 19,
     "metadata": {},
     "output_type": "execute_result"
    }
   ],
   "source": [
    "np.max(cook.geom_mean), np.min(cook.geom_mean)"
   ]
  },
  {
   "cell_type": "code",
   "execution_count": 42,
   "metadata": {
    "scrolled": false
   },
   "outputs": [
    {
     "name": "stdout",
     "output_type": "stream",
     "text": [
      "\n"
     ]
    },
    {
     "data": {
      "image/png": "[encoded data removed]",
      "text/plain": [
       "<Figure size 576x360 with 1 Axes>"
      ]
     },
     "metadata": {
      "needs_background": "light"
     },
     "output_type": "display_data"
    }
   ],
   "source": [
    "plt.figure(figsize=(8,5))\n",
    "\n",
    "plt.hist(cook.Sale_Price/1e6, bins=20, color=\"#63a148\")\n",
    "plt.title(\"Median Sale Price per Zip Code\", pad=20, fontsize=20)\n",
    "plt.xlabel(\"Mean Sale Price in Millions\", labelpad=10)\n",
    "plt.ylabel(\"Number of Zip Codes\", labelpad=10)\n",
    "\n",
    "plt.rcParams.update({'font.size': 16})\n",
    "#plt.savefig(\"hist_sale_price.png\", bbox_inches=\"tight\")\n",
    "print()\n",
    "\n",
    "# not normally distributed"
   ]
  },
  {
   "cell_type": "code",
   "execution_count": 41,
   "metadata": {},
   "outputs": [
    {
     "name": "stdout",
     "output_type": "stream",
     "text": [
      "\n"
     ]
    },
    {
     "data": {
      "image/png": "[encoded data removed]",
      "text/plain": [
       "<Figure size 576x360 with 1 Axes>"
      ]
     },
     "metadata": {
      "needs_background": "light"
     },
     "output_type": "display_data"
    }
   ],
   "source": [
    "plt.figure(figsize=(8,5))\n",
    "\n",
    "plt.hist(cook.mean_ndvi, bins=20, color=\"#63a148\")\n",
    "plt.title(\"Mean NDVI Value per Zip Code\", pad=20, fontsize=20)\n",
    "plt.xlabel(\"Mean NDVI Value\", labelpad=10)\n",
    "plt.ylabel(\"Number of Zip Codes\", labelpad=10)\n",
    "\n",
    "plt.rcParams.update({'font.size': 12})\n",
    "# plt.savefig(\"hist_ndvi.png\", bbox_inches=\"tight\")\n",
    "\n",
    "print()\n",
    "\n",
    "# mean ndvi was already roughly normally distributed, no transformation needed"
   ]
  },
  {
   "cell_type": "code",
   "execution_count": 40,
   "metadata": {},
   "outputs": [
    {
     "name": "stdout",
     "output_type": "stream",
     "text": [
      "\n"
     ]
    },
    {
     "data": {
      "image/png": "[encoded data removed]",
      "text/plain": [
       "<Figure size 576x360 with 1 Axes>"
      ]
     },
     "metadata": {
      "needs_background": "light"
     },
     "output_type": "display_data"
    }
   ],
   "source": [
    "plt.figure(figsize=(8,5))\n",
    "\n",
    "plt.hist(cook.geom_mean, bins=20, color=\"#63a148\")\n",
    "plt.title(\"Geometric Mean per Zip Code\", pad=20, fontsize=20)\n",
    "plt.xlabel(\"Geometric Mean\", labelpad=10)\n",
    "plt.ylabel(\"Number of Zip Codes\", labelpad=10)\n",
    "\n",
    "\n",
    "plt.rcParams.update({'font.size': 12})\n",
    "#plt.savefig(\"hist_geom_mean.png\", bbox_inches=\"tight\")\n",
    "\n",
    "print()\n",
    "\n",
    "# geometric mean of standardized sale price and ndvi values\n",
    "\n",
    "# i think it's skewed based on what we found with the scatter plots earlier; in a lot of zip codes, \n",
    "# NDVI and property value are inversely related "
   ]
  },
  {
   "cell_type": "code",
   "execution_count": 43,
   "metadata": {},
   "outputs": [
    {
     "name": "stdout",
     "output_type": "stream",
     "text": [
      "\n"
     ]
    },
    {
     "data": {
      "image/png": "[encoded data removed]",
      "text/plain": [
       "<Figure size 576x360 with 1 Axes>"
      ]
     },
     "metadata": {
      "needs_background": "light"
     },
     "output_type": "display_data"
    }
   ],
   "source": [
    "plt.figure(figsize=(8,5))\n",
    "\n",
    "plt.hist(cook.log_sale, bins=15, color=\"#63a148\")\n",
    "plt.title(\"Log Sale Price\", fontsize=20)\n",
    "\n",
    "\n",
    "print()\n",
    "\n",
    "# sale price values have been log-transformed to fit the normal distribution\n",
    "\n",
    "# performed boxcox on the values\n",
    "# boxcox confidence interval included 0 --> log transformation\n"
   ]
  },
  {
   "cell_type": "code",
   "execution_count": 44,
   "metadata": {},
   "outputs": [
    {
     "name": "stdout",
     "output_type": "stream",
     "text": [
      "\n"
     ]
    },
    {
     "data": {
      "image/png": "[encoded data removed]",
      "text/plain": [
       "<Figure size 576x360 with 1 Axes>"
      ]
     },
     "metadata": {
      "needs_background": "light"
     },
     "output_type": "display_data"
    }
   ],
   "source": [
    "plt.figure(figsize=(8,5))\n",
    "\n",
    "plt.hist(cook.geom_mult, bins=25, color=\"#63a148\")\n",
    "plt.title(\"Multiplied Values\", fontsize=20)\n",
    "\n",
    "print()\n",
    "\n",
    "# multiplied standardized sale price and ndvi values\n",
    "# interesting; some combination of lower-than-average NDVI/sale-price yields negative values"
   ]
  },
  {
   "cell_type": "code",
   "execution_count": null,
   "metadata": {},
   "outputs": [],
   "source": []
  },
  {
   "cell_type": "markdown",
   "metadata": {},
   "source": [
    "## Quantile plots of property value and mean NDVI (just to check for normality)"
   ]
  },
  {
   "cell_type": "code",
   "execution_count": 25,
   "metadata": {
    "scrolled": false
   },
   "outputs": [
    {
     "data": {
      "image/png": "[encoded data removed]",
      "text/plain": [
       "<Figure size 432x288 with 1 Axes>"
      ]
     },
     "metadata": {},
     "output_type": "display_data"
    }
   ],
   "source": [
    "xfine= np.arange(0,1,.001)\n",
    "quant_ndvi = np.quantile(cook.mean_ndvi,xfine)\n",
    "#quant_ndvi = np.quantile(cook.mean_ndvi, xfine)\n",
    "\n",
    "fig, ax = plt.subplots()\n",
    "\n",
    "plt.plot(xfine, quant_ndvi, label=\"sale\")\n",
    "#plt.plot(xfine, quant_ndvi, label=\"ndvi\")\n",
    "\n",
    "plt.legend(loc='upper left')\n",
    "plt.title(\"Quantile Plot of NDVI\")\n",
    "plt.xlabel(\"Normal Theoretical Quantities\")\n",
    "plt.ylabel(\"Sample Quantities\")\n",
    "\n",
    "\n",
    "plt.show()\n",
    "\n",
    "# looks roughly normal"
   ]
  },
  {
   "cell_type": "code",
   "execution_count": 26,
   "metadata": {
    "scrolled": true
   },
   "outputs": [
    {
     "data": {
      "image/png": "[encoded data removed]",
      "text/plain": [
       "<Figure size 432x288 with 1 Axes>"
      ]
     },
     "metadata": {},
     "output_type": "display_data"
    }
   ],
   "source": [
    "xfine= np.arange(0,1,.001)\n",
    "quant_sale = np.quantile(cook.log_sale,xfine)\n",
    "#quant_ndvi = np.quantile(cook.mean_ndvi, xfine)\n",
    "\n",
    "fig, ax = plt.subplots()\n",
    "\n",
    "plt.plot(xfine, quant_sale, label=\"sale\")\n",
    "#plt.plot(xfine, quant_ndvi, label=\"ndvi\")\n",
    "\n",
    "plt.legend(loc='upper left')\n",
    "plt.title(\"Quantile Plot of Sale Price\")\n",
    "plt.xlabel(\"Normal Theoretical Quantities\")\n",
    "plt.ylabel(\"Sample Quantities\")\n",
    "\n",
    "\n",
    "plt.show()\n",
    "\n",
    "# looks roughly normal although possibly heavy-tailed"
   ]
  },
  {
   "cell_type": "markdown",
   "metadata": {},
   "source": [
    "# ————————————————————————"
   ]
  },
  {
   "cell_type": "code",
   "execution_count": null,
   "metadata": {},
   "outputs": [],
   "source": []
  },
  {
   "cell_type": "markdown",
   "metadata": {},
   "source": [
    "## Multiple Linear Regression "
   ]
  },
  {
   "cell_type": "markdown",
   "metadata": {},
   "source": [
    "**Used property value and population density as predictors (trying to take downtown area into account as an outlier)**"
   ]
  },
  {
   "cell_type": "code",
   "execution_count": 58,
   "metadata": {},
   "outputs": [],
   "source": [
    "pop_dense = df.pop_total/df.ALAND10/1e6\n",
    "     \n",
    "df[\"pop_dense\"] = pop_dense"
   ]
  },
  {
   "cell_type": "code",
   "execution_count": 59,
   "metadata": {},
   "outputs": [
    {
     "data": {
      "text/plain": [
       "array([ 0.24556814, -0.04291435, -0.0415828 ])"
      ]
     },
     "execution_count": 59,
     "metadata": {},
     "output_type": "execute_result"
    }
   ],
   "source": [
    "def multi2(b):\n",
    "    estimate = \\\n",
    "    b[0] \\\n",
    "    +b[1]*standard_units(df.Sale_Price) \\\n",
    "    +b[2]*standard_units(df.pop_dense) \n",
    "    \n",
    "    return (np.mean((df.mean_ndvi - estimate) ** 2))\n",
    "\n",
    "# to find the estimated values of the parameters\n",
    "minimize(multi2,x0=[0,0,0],method=\"BFGS\").x"
   ]
  },
  {
   "cell_type": "code",
   "execution_count": 60,
   "metadata": {},
   "outputs": [],
   "source": [
    "n=df.shape[0]\n",
    "\n",
    "tmp_df=df\n",
    "\n",
    "predicted = np.array([])\n",
    "    \n",
    "for i in range(n):\n",
    "    # drop the i-th row (training using n-1 values)\n",
    "    tmp_df=df.drop(i)\n",
    "\n",
    "    tmp_fit=minimize(multi2,x0=[0,0,0],method=\"BFGS\").x\n",
    "\n",
    "    tmp_pred=tmp_fit[0] \\\n",
    "            +tmp_fit[1]*standard_units(df.Sale_Price)[i] \\\n",
    "            +tmp_fit[2]*standard_units(df.pop_dense)[i] \\\n",
    "    \n",
    "    predicted = np.append(predicted, tmp_pred)"
   ]
  },
  {
   "cell_type": "code",
   "execution_count": 61,
   "metadata": {},
   "outputs": [
    {
     "data": {
      "text/plain": [
       "array([0.19381922, 0.09969702, 0.22873547, 0.27237102, 0.31056742])"
      ]
     },
     "execution_count": 61,
     "metadata": {},
     "output_type": "execute_result"
    }
   ],
   "source": [
    "predicted[:5]"
   ]
  },
  {
   "cell_type": "code",
   "execution_count": 62,
   "metadata": {},
   "outputs": [
    {
     "data": {
      "text/plain": [
       "0    0.126884\n",
       "1    0.074290\n",
       "2    0.132765\n",
       "3    0.165517\n",
       "4    0.221666\n",
       "Name: mean_ndvi, dtype: float64"
      ]
     },
     "execution_count": 62,
     "metadata": {},
     "output_type": "execute_result"
    }
   ],
   "source": [
    "df[\"mean_ndvi\"][:5]"
   ]
  },
  {
   "cell_type": "code",
   "execution_count": 63,
   "metadata": {},
   "outputs": [
    {
     "name": "stdout",
     "output_type": "stream",
     "text": [
      "\n"
     ]
    },
    {
     "data": {
      "image/png": "[encoded data removed]",
      "text/plain": [
       "<Figure size 432x288 with 1 Axes>"
      ]
     },
     "metadata": {
      "needs_background": "light"
     },
     "output_type": "display_data"
    }
   ],
   "source": [
    "plt.rcParams.update({'font.size': 12})\n",
    "\n",
    "plt.scatter(df[\"mean_ndvi\"],predicted)\n",
    "plt.xlabel(\"Observed Mean NDVI Values\")\n",
    "plt.ylabel(\"Model Prediction\")\n",
    "plt.title('Mean NDVI (x) vs Model 1 Prediction (y)')\n",
    "\n",
    "print()"
   ]
  },
  {
   "cell_type": "code",
   "execution_count": null,
   "metadata": {},
   "outputs": [],
   "source": []
  },
  {
   "cell_type": "markdown",
   "metadata": {},
   "source": [
    "## Univariate Regression Plots\n",
    "**sale price and population density vs green space**"
   ]
  },
  {
   "cell_type": "code",
   "execution_count": 64,
   "metadata": {},
   "outputs": [],
   "source": [
    "def standard_units(x):\n",
    "    \"Convert any array of numbers to standard units.\"\n",
    "    return (x - np.average(x))/np.std(x,ddof=1)  \n",
    "\n",
    "def correlation(x, y):\n",
    "    x_in_standard_units = standard_units(x)\n",
    "    y_in_standard_units = standard_units(y)\n",
    "    if len(x)!=len(y):\n",
    "        raise ValueError('arrays are of different lengths')\n",
    "    return sum(x_in_standard_units * y_in_standard_units)/(len(x)-1)"
   ]
  },
  {
   "cell_type": "code",
   "execution_count": 65,
   "metadata": {},
   "outputs": [],
   "source": [
    "std_sale = standard_units(cook.Sale_Price)\n",
    "std_ndvi = standard_units(cook.mean_ndvi)\n"
   ]
  },
  {
   "cell_type": "code",
   "execution_count": 66,
   "metadata": {},
   "outputs": [],
   "source": [
    "def regression(df, x, y):\n",
    "    xcol = df[x]\n",
    "    ycol = df[y]\n",
    "    \n",
    "    meanx = np.mean(xcol)\n",
    "    meany = np.mean(ycol)\n",
    "    \n",
    "    stdx = np.std(xcol)\n",
    "    stdy = np.std(ycol)\n",
    "    \n",
    "    numer = 0\n",
    "    denom = 0\n",
    "    \n",
    "    for i in range(len(df)):\n",
    "        numer += (xcol[i] - meanx) * (ycol[i] - meany)\n",
    "        denom += (xcol[i] - meanx) ** 2\n",
    "\n",
    "    slope = numer / denom\n",
    "    intercept = meany - (slope * meanx)\n",
    "    \n",
    "    return \"Slope:\", slope, \"Intercept:\", intercept"
   ]
  },
  {
   "cell_type": "code",
   "execution_count": 67,
   "metadata": {},
   "outputs": [
    {
     "data": {
      "text/plain": [
       "Unnamed:_0             int64\n",
       "Property_Zip_Code      int64\n",
       "Sale_Price           float64\n",
       "mean_ndvi            float64\n",
       "AWATER10               int64\n",
       "ALAND10                int64\n",
       "FUNCSTAT10            object\n",
       "INTPTLON10           float64\n",
       "CLASSFP10             object\n",
       "ZCTA5CE10              int64\n",
       "MTFCC10               object\n",
       "INTPTLAT10           float64\n",
       "system:index          object\n",
       "GEOID10                int64\n",
       "log_sale             float64\n",
       "std_sale_price       float64\n",
       "std_ndvi             float64\n",
       "geom_mult            float64\n",
       "geom_mean            float64\n",
       "dtype: object"
      ]
     },
     "execution_count": 67,
     "metadata": {},
     "output_type": "execute_result"
    }
   ],
   "source": [
    "cook.dtypes"
   ]
  },
  {
   "cell_type": "code",
   "execution_count": 68,
   "metadata": {},
   "outputs": [],
   "source": [
    "def standard_units(x):\n",
    "    \"Convert any array of numbers to standard units.\"\n",
    "    return (x - np.average(x))/np.std(x,ddof=1)  \n",
    "\n",
    "def correlation(x, y):\n",
    "    x_in_standard_units = standard_units(x)\n",
    "    y_in_standard_units = standard_units(y)\n",
    "    if len(x)!=len(y):\n",
    "        raise ValueError('arrays are of different lengths')\n",
    "    return sum(x_in_standard_units * y_in_standard_units)/(len(x)-1)"
   ]
  },
  {
   "cell_type": "code",
   "execution_count": 69,
   "metadata": {},
   "outputs": [
    {
     "data": {
      "text/plain": [
       "-0.6908920826579283"
      ]
     },
     "execution_count": 69,
     "metadata": {},
     "output_type": "execute_result"
    }
   ],
   "source": [
    "correlation(cook.Sale_Price, cook.mean_ndvi)"
   ]
  },
  {
   "cell_type": "code",
   "execution_count": 70,
   "metadata": {},
   "outputs": [
    {
     "data": {
      "text/plain": [
       "('Slope:', -1.5395196920475398e-07, 'Intercept:', 0.3264814799558015)"
      ]
     },
     "execution_count": 70,
     "metadata": {},
     "output_type": "execute_result"
    }
   ],
   "source": [
    "regression(cook, \"Sale_Price\", \"mean_ndvi\")"
   ]
  },
  {
   "cell_type": "code",
   "execution_count": 71,
   "metadata": {},
   "outputs": [
    {
     "data": {
      "text/plain": [
       "55"
      ]
     },
     "execution_count": 71,
     "metadata": {},
     "output_type": "execute_result"
    }
   ],
   "source": [
    "len(cook.mean_ndvi)"
   ]
  },
  {
   "cell_type": "code",
   "execution_count": 72,
   "metadata": {
    "scrolled": false
   },
   "outputs": [
    {
     "data": {
      "image/png": "[encoded data removed]",
      "text/plain": [
       "<Figure size 720x504 with 1 Axes>"
      ]
     },
     "metadata": {
      "needs_background": "light"
     },
     "output_type": "display_data"
    }
   ],
   "source": [
    "plt.figure(figsize=(10,7))\n",
    "plt.rcParams.update({'font.size': 14})\n",
    "\n",
    "sns.regplot(x=cook.Sale_Price/1e6, y=cook.mean_ndvi);\n",
    "#sns.regplot(x=\"Sale_Price\", y=\"mean_ndvi\", data=cook);\n",
    "plt.title(\"NDVI Value vs. Median Sale Price per Zip Code\", pad=10)\n",
    "plt.xlabel(\"Median Sale Price (in millions)\", labelpad=10)\n",
    "plt.ylabel(\"Mean NDVI Value\", labelpad=10)\n",
    "\n",
    "plt.rcParams.update({'font.size': 16})\n",
    "plt.savefig(\"lin_reg_saleprice.png\", bbox_inches=\"tight\")\n",
    "\n"
   ]
  },
  {
   "cell_type": "code",
   "execution_count": 75,
   "metadata": {
    "scrolled": true
   },
   "outputs": [
    {
     "name": "stdout",
     "output_type": "stream",
     "text": [
      "\n"
     ]
    },
    {
     "data": {
      "image/png": "[encoded data removed]",
      "text/plain": [
       "<Figure size 432x288 with 1 Axes>"
      ]
     },
     "metadata": {
      "needs_background": "light"
     },
     "output_type": "display_data"
    }
   ],
   "source": [
    "\n",
    "sns.regplot(x=\"pop_dense\", y=\"mean_ndvi\", data=df)\n",
    "plt.title(\"NDVI vs Population Density\")\n",
    "print()"
   ]
  },
  {
   "cell_type": "code",
   "execution_count": 57,
   "metadata": {},
   "outputs": [
    {
     "name": "stdout",
     "output_type": "stream",
     "text": [
      "\n"
     ]
    },
    {
     "data": {
      "image/png": "[encoded data removed]",
      "text/plain": [
       "<Figure size 432x288 with 1 Axes>"
      ]
     },
     "metadata": {
      "needs_background": "light"
     },
     "output_type": "display_data"
    }
   ],
   "source": [
    "\n",
    "plt.scatter(cook.Sale_Price/1000000, cook.mean_ndvi)\n",
    "x = np.linspace(np.min(cook[\"Sale_Price\"])/1000000, np.max(cook[\"Sale_Price\"])/1000000,60)\n",
    "y = -0.1539*x + 0.326\n",
    "plt.plot(x, y, '-r')\n",
    "\n",
    "plt.title(\"Mean NDVI Value vs Mean Sale Price per Cook County Zip Code\", pad=20)\n",
    "plt.xlabel(\"Mean Sale Price (in millions)\")\n",
    "plt.ylabel(\"Mean NDVI Value\")\n",
    "\n",
    "print()"
   ]
  },
  {
   "cell_type": "code",
   "execution_count": 45,
   "metadata": {},
   "outputs": [
    {
     "data": {
      "text/html": [
       "<div>\n",
       "<style scoped>\n",
       "    .dataframe tbody tr th:only-of-type {\n",
       "        vertical-align: middle;\n",
       "    }\n",
       "\n",
       "    .dataframe tbody tr th {\n",
       "        vertical-align: top;\n",
       "    }\n",
       "\n",
       "    .dataframe thead th {\n",
       "        text-align: right;\n",
       "    }\n",
       "</style>\n",
       "<table border=\"1\" class=\"dataframe\">\n",
       "  <thead>\n",
       "    <tr style=\"text-align: right;\">\n",
       "      <th></th>\n",
       "      <th>Unnamed:_0</th>\n",
       "      <th>Property_Zip_Code</th>\n",
       "      <th>Sale_Price</th>\n",
       "      <th>mean_ndvi</th>\n",
       "      <th>AWATER10</th>\n",
       "      <th>ALAND10</th>\n",
       "      <th>FUNCSTAT10</th>\n",
       "      <th>INTPTLON10</th>\n",
       "      <th>CLASSFP10</th>\n",
       "      <th>ZCTA5CE10</th>\n",
       "      <th>MTFCC10</th>\n",
       "      <th>INTPTLAT10</th>\n",
       "      <th>system:index</th>\n",
       "      <th>GEOID10</th>\n",
       "      <th>log_sale</th>\n",
       "      <th>std_sale_price</th>\n",
       "      <th>std_ndvi</th>\n",
       "      <th>geom_mult</th>\n",
       "      <th>geom_mean</th>\n",
       "    </tr>\n",
       "  </thead>\n",
       "  <tbody>\n",
       "    <tr>\n",
       "      <th>54</th>\n",
       "      <td>54</td>\n",
       "      <td>60827</td>\n",
       "      <td>37728.0</td>\n",
       "      <td>0.416466</td>\n",
       "      <td>1229641</td>\n",
       "      <td>18161652</td>\n",
       "      <td>S</td>\n",
       "      <td>-87.633572</td>\n",
       "      <td>B5</td>\n",
       "      <td>60827</td>\n",
       "      <td>G6350</td>\n",
       "      <td>41.649434</td>\n",
       "      <td>00040000000000001981</td>\n",
       "      <td>60827</td>\n",
       "      <td>10.538158</td>\n",
       "      <td>-2.671753</td>\n",
       "      <td>1.659389</td>\n",
       "      <td>-4.433478</td>\n",
       "      <td>2.105583</td>\n",
       "    </tr>\n",
       "  </tbody>\n",
       "</table>\n",
       "</div>"
      ],
      "text/plain": [
       "    Unnamed:_0  Property_Zip_Code  Sale_Price  mean_ndvi  AWATER10   ALAND10  \\\n",
       "54          54              60827     37728.0   0.416466   1229641  18161652   \n",
       "\n",
       "   FUNCSTAT10  INTPTLON10 CLASSFP10  ZCTA5CE10 MTFCC10  INTPTLAT10  \\\n",
       "54          S  -87.633572        B5      60827   G6350   41.649434   \n",
       "\n",
       "            system:index  GEOID10   log_sale  std_sale_price  std_ndvi  \\\n",
       "54  00040000000000001981    60827  10.538158       -2.671753  1.659389   \n",
       "\n",
       "    geom_mult  geom_mean  \n",
       "54  -4.433478   2.105583  "
      ]
     },
     "execution_count": 45,
     "metadata": {},
     "output_type": "execute_result"
    }
   ],
   "source": [
    "cook.iloc[np.where(cook.Sale_Price == cook.Sale_Price.min())]"
   ]
  },
  {
   "cell_type": "code",
   "execution_count": 44,
   "metadata": {},
   "outputs": [
    {
     "data": {
      "text/html": [
       "<div>\n",
       "<style scoped>\n",
       "    .dataframe tbody tr th:only-of-type {\n",
       "        vertical-align: middle;\n",
       "    }\n",
       "\n",
       "    .dataframe tbody tr th {\n",
       "        vertical-align: top;\n",
       "    }\n",
       "\n",
       "    .dataframe thead th {\n",
       "        text-align: right;\n",
       "    }\n",
       "</style>\n",
       "<table border=\"1\" class=\"dataframe\">\n",
       "  <thead>\n",
       "    <tr style=\"text-align: right;\">\n",
       "      <th></th>\n",
       "      <th>Unnamed:_0</th>\n",
       "      <th>Property_Zip_Code</th>\n",
       "      <th>Sale_Price</th>\n",
       "      <th>mean_ndvi</th>\n",
       "      <th>AWATER10</th>\n",
       "      <th>ALAND10</th>\n",
       "      <th>FUNCSTAT10</th>\n",
       "      <th>INTPTLON10</th>\n",
       "      <th>CLASSFP10</th>\n",
       "      <th>ZCTA5CE10</th>\n",
       "      <th>MTFCC10</th>\n",
       "      <th>INTPTLAT10</th>\n",
       "      <th>system:index</th>\n",
       "      <th>GEOID10</th>\n",
       "      <th>log_sale</th>\n",
       "      <th>std_sale_price</th>\n",
       "      <th>std_ndvi</th>\n",
       "      <th>geom_mult</th>\n",
       "      <th>geom_mean</th>\n",
       "    </tr>\n",
       "  </thead>\n",
       "  <tbody>\n",
       "    <tr>\n",
       "      <th>1</th>\n",
       "      <td>1</td>\n",
       "      <td>60606</td>\n",
       "      <td>2250000.0</td>\n",
       "      <td>0.07429</td>\n",
       "      <td>0</td>\n",
       "      <td>661666</td>\n",
       "      <td>S</td>\n",
       "      <td>-87.637349</td>\n",
       "      <td>B5</td>\n",
       "      <td>60606</td>\n",
       "      <td>G6350</td>\n",
       "      <td>41.882066</td>\n",
       "      <td>000400000000000005f8</td>\n",
       "      <td>60606</td>\n",
       "      <td>14.626441</td>\n",
       "      <td>2.150924</td>\n",
       "      <td>-1.710807</td>\n",
       "      <td>-3.679816</td>\n",
       "      <td>1.918285</td>\n",
       "    </tr>\n",
       "  </tbody>\n",
       "</table>\n",
       "</div>"
      ],
      "text/plain": [
       "   Unnamed:_0  Property_Zip_Code  Sale_Price  mean_ndvi  AWATER10  ALAND10  \\\n",
       "1           1              60606   2250000.0    0.07429         0   661666   \n",
       "\n",
       "  FUNCSTAT10  INTPTLON10 CLASSFP10  ZCTA5CE10 MTFCC10  INTPTLAT10  \\\n",
       "1          S  -87.637349        B5      60606   G6350   41.882066   \n",
       "\n",
       "           system:index  GEOID10   log_sale  std_sale_price  std_ndvi  \\\n",
       "1  000400000000000005f8    60606  14.626441        2.150924 -1.710807   \n",
       "\n",
       "   geom_mult  geom_mean  \n",
       "1  -3.679816   1.918285  "
      ]
     },
     "execution_count": 44,
     "metadata": {},
     "output_type": "execute_result"
    }
   ],
   "source": [
    "cook.iloc[np.where(cook.Sale_Price == cook.Sale_Price.max())]"
   ]
  },
  {
   "cell_type": "code",
   "execution_count": null,
   "metadata": {},
   "outputs": [],
   "source": []
  },
  {
   "cell_type": "code",
   "execution_count": null,
   "metadata": {},
   "outputs": [],
   "source": []
  },
  {
   "cell_type": "code",
   "execution_count": null,
   "metadata": {},
   "outputs": [],
   "source": []
  },
  {
   "cell_type": "code",
   "execution_count": null,
   "metadata": {},
   "outputs": [],
   "source": []
  },
  {
   "cell_type": "code",
   "execution_count": null,
   "metadata": {},
   "outputs": [],
   "source": []
  },
  {
   "cell_type": "code",
   "execution_count": null,
   "metadata": {},
   "outputs": [],
   "source": []
  }
 ],
 "metadata": {
  "kernelspec": {
   "display_name": "Python 3",
   "language": "python",
   "name": "python3"
  },
  "language_info": {
   "codemirror_mode": {
    "name": "ipython",
    "version": 3
   },
   "file_extension": ".py",
   "mimetype": "text/x-python",
   "name": "python",
   "nbconvert_exporter": "python",
   "pygments_lexer": "ipython3",
   "version": "3.8.5"
  }
 },
 "nbformat": 4,
 "nbformat_minor": 4
}
